{
 "cells": [
  {
   "cell_type": "markdown",
   "metadata": {
    "colab_type": "text",
    "id": "8CjWEQtIyY2u"
   },
   "source": [
    "# Objective\n",
    "In this notebook, I am simply implementing one-vs-one models. Raw intruder data is used, however, in subsequent notebooks, SMOTE and gaussian noise methods will be implemented to preserve the privacy of the intruders. "
   ]
  },
  {
   "cell_type": "code",
   "execution_count": 13,
   "metadata": {
    "colab": {},
    "colab_type": "code",
    "id": "nPcxSv73yY2w"
   },
   "outputs": [],
   "source": [
    "import codecs\n",
    "import utility_functions_v2 as util\n",
    "import one_vs_rest_util as ovr_util\n",
    "import load_buffalo_data as data_loader\n",
    "import cnn_lstm_models as models\n",
    "import numpy as np\n",
    "import tensorflow as tf\n",
    "from sklearn.preprocessing import MinMaxScaler"
   ]
  },
  {
   "cell_type": "code",
   "execution_count": 14,
   "metadata": {
    "colab": {
     "base_uri": "https://localhost:8080/",
     "height": 33
    },
    "colab_type": "code",
    "executionInfo": {
     "elapsed": 4221,
     "status": "ok",
     "timestamp": 1599636341884,
     "user": {
      "displayName": "Nyein Soe",
      "photoUrl": "",
      "userId": "10118612274549664294"
     },
     "user_tz": -480
    },
    "id": "qv9Uh2KGCrm0",
    "outputId": "7fc05d61-a408-468b-c793-8b34c79c1346"
   },
   "outputs": [
    {
     "data": {
      "text/plain": [
       "<module 'one_vs_rest_util' from 'C:\\\\Users\\\\nyein\\\\Intership_proj\\\\keystroke_dynamics\\\\initial_testing_phase\\\\one_vs_rest_util.py'>"
      ]
     },
     "execution_count": 14,
     "metadata": {},
     "output_type": "execute_result"
    }
   ],
   "source": [
    "import importlib\n",
    "importlib.reload(data_loader)\n",
    "importlib.reload(util)\n",
    "importlib.reload(models)\n",
    "importlib.reload(ovr_util)"
   ]
  },
  {
   "cell_type": "code",
   "execution_count": 3,
   "metadata": {
    "colab": {},
    "colab_type": "code",
    "id": "OV6JsozGyY21"
   },
   "outputs": [],
   "source": [
    "from tensorflow.keras.models import Sequential\n",
    "from tensorflow.keras.layers import Conv1D, MaxPooling1D, Flatten, Dense, Input, Dropout,LSTM,TimeDistributed,GRU , Bidirectional,BatchNormalization,Activation\n",
    "from tensorflow.keras.models import  Sequential, Model, load_model\n",
    "from tensorflow.keras.callbacks import EarlyStopping,ReduceLROnPlateau\n",
    "from tensorflow.keras.regularizers import l2\n",
    "from sklearn.utils import shuffle\n",
    "from sklearn.preprocessing import MinMaxScaler, StandardScaler\n",
    "from sklearn.metrics import confusion_matrix\n",
    "from collections import Counter\n",
    "from tensorflow.keras import backend as K\n",
    "from sklearn.metrics import roc_auc_score"
   ]
  },
  {
   "cell_type": "code",
   "execution_count": 4,
   "metadata": {
    "colab": {},
    "colab_type": "code",
    "id": "dPl7dM5LyY3J"
   },
   "outputs": [],
   "source": [
    "seq_length = 30\n",
    "cnn_units = 32\n",
    "lstm_units = 120\n",
    "weight_decay = 1e-6\n",
    "batch_size = 64\n",
    "epochs = 150\n",
    "optimizer = tf.keras.optimizers.Adam(lr=0.001, beta_1=0.9, beta_2=0.999, epsilon=1e-08, decay=0.0001)\n",
    "optimizer_2 = tf.keras.optimizers.Adadelta(learning_rate=0.001, rho=0.95, epsilon=1e-08)\n",
    "loss_func = [\"binary_crossentropy\",models.custom_loss]\n",
    "early_stopping,learning_rate_reduction = models.get_call_backs()"
   ]
  },
  {
   "cell_type": "code",
   "execution_count": 5,
   "metadata": {
    "colab": {},
    "colab_type": "code",
    "id": "cwChEG63qXjn"
   },
   "outputs": [],
   "source": [
    "user_id = \"005\"\n",
    "intruder_id_list = [\"080\",\"083\",\"017\",\"019\"]"
   ]
  },
  {
   "cell_type": "code",
   "execution_count": 15,
   "metadata": {
    "colab": {
     "base_uri": "https://localhost:8080/",
     "height": 117
    },
    "colab_type": "code",
    "executionInfo": {
     "elapsed": 4544,
     "status": "ok",
     "timestamp": 1599636343029,
     "user": {
      "displayName": "Nyein Soe",
      "photoUrl": "",
      "userId": "10118612274549664294"
     },
     "user_tz": -480
    },
    "id": "Sro5nYaZFM-k",
    "outputId": "4a2b365d-791b-4658-ca28-42f103fa6ad9"
   },
   "outputs": [
    {
     "name": "stdout",
     "output_type": "stream",
     "text": [
      "not found!! popping from list\n",
      "not found!! popping from list\n",
      "not found!! popping from list\n",
      "not found!! popping from list\n",
      "Train data shape: (22689, 30, 4, 1), Train label shape: (22689, 1)\n",
      "test_data shape: (1000, 30, 4, 1), test_label shape: (1000, 1)\n"
     ]
    }
   ],
   "source": [
    "train_data_1, train_label_1, scaler_1 = ovr_util.load_train_data(user_id, intruder_id_list[0], seq_length)\n",
    "test_data_1,test_label_1 = ovr_util.load_test_data(user_id, intruder_id_list[0], scaler_1, seq_length)"
   ]
  },
  {
   "cell_type": "code",
   "execution_count": 10,
   "metadata": {
    "colab": {
     "base_uri": "https://localhost:8080/",
     "height": 50
    },
    "colab_type": "code",
    "executionInfo": {
     "elapsed": 5043,
     "status": "ok",
     "timestamp": 1599636344062,
     "user": {
      "displayName": "Nyein Soe",
      "photoUrl": "",
      "userId": "10118612274549664294"
     },
     "user_tz": -480
    },
    "id": "OpHS92udext0",
    "outputId": "7899bf61-e545-4d7d-c6df-542a3e27754a"
   },
   "outputs": [
    {
     "name": "stdout",
     "output_type": "stream",
     "text": [
      "Train data shape: (20033, 30, 4, 1), Train label shape: (20033, 1)\n",
      "test data before reshape: (1000, 30, 4)\n",
      "test data after reshape: (1000, 120)\n",
      "test_data shape: (1000, 30, 4, 1), test_label shape: (1000, 1)\n"
     ]
    }
   ],
   "source": [
    "train_data_2, train_label_2, scaler_2 = ovr_util.load_train_data(user_id, intruder_id_list[1], seq_length)\n",
    "test_data_2,test_label_2 = ovr_util.load_test_data(user_id, intruder_id_list[1], scaler_2, seq_length)"
   ]
  },
  {
   "cell_type": "code",
   "execution_count": 11,
   "metadata": {
    "colab": {
     "base_uri": "https://localhost:8080/",
     "height": 50
    },
    "colab_type": "code",
    "executionInfo": {
     "elapsed": 5258,
     "status": "ok",
     "timestamp": 1599636344686,
     "user": {
      "displayName": "Nyein Soe",
      "photoUrl": "",
      "userId": "10118612274549664294"
     },
     "user_tz": -480
    },
    "id": "rhZ_QPWSeyLP",
    "outputId": "5628c5f3-0ceb-47c6-feba-53e125dc8586"
   },
   "outputs": [
    {
     "name": "stdout",
     "output_type": "stream",
     "text": [
      "Train data shape: (18199, 30, 4, 1), Train label shape: (18199, 1)\n",
      "test data before reshape: (1000, 30, 4)\n",
      "test data after reshape: (1000, 120)\n",
      "test_data shape: (1000, 30, 4, 1), test_label shape: (1000, 1)\n"
     ]
    }
   ],
   "source": [
    "train_data_3, train_label_3, scaler_3 = ovr_util.load_train_data(user_id, intruder_id_list[2], seq_length)\n",
    "test_data_3,test_label_3 = ovr_util.load_test_data(user_id, intruder_id_list[2], scaler_3,seq_length)"
   ]
  },
  {
   "cell_type": "code",
   "execution_count": 12,
   "metadata": {
    "colab": {
     "base_uri": "https://localhost:8080/",
     "height": 50
    },
    "colab_type": "code",
    "executionInfo": {
     "elapsed": 6153,
     "status": "ok",
     "timestamp": 1599636345971,
     "user": {
      "displayName": "Nyein Soe",
      "photoUrl": "",
      "userId": "10118612274549664294"
     },
     "user_tz": -480
    },
    "id": "OmlMwWu-eyaC",
    "outputId": "c856f0e7-89ac-46de-d7f6-325ec95c86a4"
   },
   "outputs": [
    {
     "name": "stdout",
     "output_type": "stream",
     "text": [
      "Train data shape: (18754, 30, 4, 1), Train label shape: (18754, 1)\n",
      "test data before reshape: (1000, 30, 4)\n",
      "test data after reshape: (1000, 120)\n",
      "test_data shape: (1000, 30, 4, 1), test_label shape: (1000, 1)\n"
     ]
    }
   ],
   "source": [
    "train_data_4, train_label_4, scaler_4 = ovr_util.load_train_data(user_id, intruder_id_list[3], seq_length)\n",
    "test_data_4,test_label_4 = ovr_util.load_test_data(user_id, intruder_id_list[3], scaler_4, seq_length)"
   ]
  },
  {
   "cell_type": "markdown",
   "metadata": {
    "colab_type": "text",
    "id": "JjArw_EHyY6Z"
   },
   "source": [
    "## 3. Training"
   ]
  },
  {
   "cell_type": "code",
   "execution_count": null,
   "metadata": {
    "colab": {},
    "colab_type": "code",
    "id": "osCsvsifyY8P"
   },
   "outputs": [],
   "source": [
    "model_1 = models.build_cnn_lstm_model_ver3(LSTM,False,32,80,0.3,(seq_length,4,1))\n",
    "history_1 = models.train_model(model_1,optimizer,loss_func[0],epochs,batch_size,train_data_1,train_label_1,[early_stopping])"
   ]
  },
  {
   "cell_type": "code",
   "execution_count": null,
   "metadata": {
    "colab": {},
    "colab_type": "code",
    "id": "lErsyPgnftU5"
   },
   "outputs": [],
   "source": [
    "model_2 = models.build_cnn_lstm_model_ver3(LSTM,False,32,120,0.3,(seq_length,4,1))\n",
    "history_2 = models.train_model(model_2,optimizer,loss_func[0],epochs,batch_size,train_data_2,train_label_2,[early_stopping])"
   ]
  },
  {
   "cell_type": "code",
   "execution_count": null,
   "metadata": {
    "colab": {
     "base_uri": "https://localhost:8080/",
     "height": 1000
    },
    "colab_type": "code",
    "executionInfo": {
     "elapsed": 621192,
     "status": "ok",
     "timestamp": 1599643267541,
     "user": {
      "displayName": "Nyein Soe",
      "photoUrl": "",
      "userId": "10118612274549664294"
     },
     "user_tz": -480
    },
    "id": "R_6njCMPft45",
    "outputId": "9e8317eb-3750-497f-e71c-9e3573aa59fb"
   },
   "outputs": [
    {
     "name": "stdout",
     "output_type": "stream",
     "text": [
      "cnn_lstm configuration 3\n",
      "Epoch 1/150\n",
      "214/214 [==============================] - 5s 24ms/step - loss: 0.6246 - acc: 0.5781 - auroc: 0.6283 - val_loss: 0.6160 - val_acc: 0.5969 - val_auroc: 0.6538\n",
      "Epoch 2/150\n",
      "214/214 [==============================] - 4s 19ms/step - loss: 0.6092 - acc: 0.6018 - auroc: 0.6635 - val_loss: 0.6634 - val_acc: 0.5622 - val_auroc: 0.7669\n",
      "Epoch 3/150\n",
      "214/214 [==============================] - 4s 19ms/step - loss: 0.5906 - acc: 0.6466 - auroc: 0.7187 - val_loss: 0.6226 - val_acc: 0.6178 - val_auroc: 0.7625\n",
      "Epoch 4/150\n",
      "214/214 [==============================] - 4s 19ms/step - loss: 0.5584 - acc: 0.6933 - auroc: 0.7744 - val_loss: 0.5246 - val_acc: 0.7015 - val_auroc: 0.8348\n",
      "Epoch 5/150\n",
      "214/214 [==============================] - 4s 19ms/step - loss: 0.4940 - acc: 0.7534 - auroc: 0.8364 - val_loss: 0.4593 - val_acc: 0.7602 - val_auroc: 0.8876\n",
      "Epoch 6/150\n",
      "214/214 [==============================] - 4s 19ms/step - loss: 0.4455 - acc: 0.7849 - auroc: 0.8742 - val_loss: 0.4873 - val_acc: 0.7708 - val_auroc: 0.9283\n",
      "Epoch 7/150\n",
      "214/214 [==============================] - 4s 19ms/step - loss: 0.3870 - acc: 0.8274 - auroc: 0.9093 - val_loss: 0.5310 - val_acc: 0.7011 - val_auroc: 0.9367\n",
      "Epoch 8/150\n",
      "214/214 [==============================] - 4s 19ms/step - loss: 0.3415 - acc: 0.8467 - auroc: 0.9312 - val_loss: 0.3546 - val_acc: 0.8295 - val_auroc: 0.9575\n",
      "Epoch 9/150\n",
      "214/214 [==============================] - 4s 19ms/step - loss: 0.3127 - acc: 0.8642 - auroc: 0.9456 - val_loss: 0.5107 - val_acc: 0.7785 - val_auroc: 0.9741\n",
      "Epoch 10/150\n",
      "214/214 [==============================] - 4s 19ms/step - loss: 0.2881 - acc: 0.8776 - auroc: 0.9543 - val_loss: 0.3238 - val_acc: 0.8640 - val_auroc: 0.9748\n",
      "Epoch 11/150\n",
      "214/214 [==============================] - 4s 19ms/step - loss: 0.2677 - acc: 0.8845 - auroc: 0.9592 - val_loss: 0.3355 - val_acc: 0.8393 - val_auroc: 0.9782\n",
      "Epoch 12/150\n",
      "214/214 [==============================] - 4s 20ms/step - loss: 0.2435 - acc: 0.8963 - auroc: 0.9674 - val_loss: 0.1710 - val_acc: 0.9284 - val_auroc: 0.9858\n",
      "Epoch 13/150\n",
      "214/214 [==============================] - 4s 20ms/step - loss: 0.2220 - acc: 0.9081 - auroc: 0.9726 - val_loss: 0.1592 - val_acc: 0.9411 - val_auroc: 0.9899\n",
      "Epoch 14/150\n",
      "214/214 [==============================] - 4s 19ms/step - loss: 0.2069 - acc: 0.9144 - auroc: 0.9772 - val_loss: 0.1443 - val_acc: 0.9442 - val_auroc: 0.9897\n",
      "Epoch 15/150\n",
      "214/214 [==============================] - 4s 19ms/step - loss: 0.1838 - acc: 0.9202 - auroc: 0.9816 - val_loss: 0.2736 - val_acc: 0.8870 - val_auroc: 0.9891\n",
      "Epoch 16/150\n",
      "214/214 [==============================] - 4s 19ms/step - loss: 0.1916 - acc: 0.9187 - auroc: 0.9802 - val_loss: 0.1342 - val_acc: 0.9475 - val_auroc: 0.9903\n",
      "Epoch 17/150\n",
      "214/214 [==============================] - 4s 19ms/step - loss: 0.1663 - acc: 0.9321 - auroc: 0.9851 - val_loss: 0.1641 - val_acc: 0.9374 - val_auroc: 0.9927\n",
      "Epoch 18/150\n",
      "214/214 [==============================] - 4s 19ms/step - loss: 0.1551 - acc: 0.9365 - auroc: 0.9877 - val_loss: 0.1060 - val_acc: 0.9598 - val_auroc: 0.9946\n",
      "Epoch 19/150\n",
      "214/214 [==============================] - 4s 19ms/step - loss: 0.1448 - acc: 0.9420 - auroc: 0.9889 - val_loss: 0.0966 - val_acc: 0.9600 - val_auroc: 0.9948\n",
      "Epoch 20/150\n",
      "214/214 [==============================] - 4s 19ms/step - loss: 0.1382 - acc: 0.9444 - auroc: 0.9905 - val_loss: 0.0983 - val_acc: 0.9673 - val_auroc: 0.9966\n",
      "Epoch 21/150\n",
      "214/214 [==============================] - 4s 19ms/step - loss: 0.1307 - acc: 0.9492 - auroc: 0.9918 - val_loss: 0.0963 - val_acc: 0.9624 - val_auroc: 0.9951\n",
      "Epoch 22/150\n",
      "214/214 [==============================] - 4s 19ms/step - loss: 0.1294 - acc: 0.9446 - auroc: 0.9924 - val_loss: 0.1393 - val_acc: 0.9426 - val_auroc: 0.9963\n",
      "Epoch 23/150\n",
      "214/214 [==============================] - 4s 19ms/step - loss: 0.1223 - acc: 0.9519 - auroc: 0.9928 - val_loss: 0.1337 - val_acc: 0.9457 - val_auroc: 0.9971\n",
      "Epoch 24/150\n",
      "214/214 [==============================] - 4s 19ms/step - loss: 0.1140 - acc: 0.9537 - auroc: 0.9941 - val_loss: 0.0698 - val_acc: 0.9699 - val_auroc: 0.9976\n",
      "Epoch 25/150\n",
      "214/214 [==============================] - 4s 19ms/step - loss: 0.1066 - acc: 0.9584 - auroc: 0.9948 - val_loss: 0.0758 - val_acc: 0.9681 - val_auroc: 0.9980\n",
      "Epoch 26/150\n",
      "214/214 [==============================] - 4s 19ms/step - loss: 0.1059 - acc: 0.9554 - auroc: 0.9947 - val_loss: 0.0805 - val_acc: 0.9697 - val_auroc: 0.9968\n",
      "Epoch 27/150\n",
      "214/214 [==============================] - 4s 19ms/step - loss: 0.1019 - acc: 0.9606 - auroc: 0.9951 - val_loss: 0.1213 - val_acc: 0.9505 - val_auroc: 0.9984\n",
      "Epoch 28/150\n",
      "214/214 [==============================] - 4s 19ms/step - loss: 0.0947 - acc: 0.9644 - auroc: 0.9964 - val_loss: 0.0608 - val_acc: 0.9765 - val_auroc: 0.9989\n",
      "Epoch 29/150\n",
      "214/214 [==============================] - 4s 19ms/step - loss: 0.0860 - acc: 0.9664 - auroc: 0.9967 - val_loss: 0.1839 - val_acc: 0.9200 - val_auroc: 0.9989\n",
      "Epoch 30/150\n",
      "214/214 [==============================] - 4s 19ms/step - loss: 0.0801 - acc: 0.9683 - auroc: 0.9974 - val_loss: 0.0478 - val_acc: 0.9859 - val_auroc: 0.9992\n",
      "Epoch 31/150\n",
      "214/214 [==============================] - 4s 19ms/step - loss: 0.0739 - acc: 0.9710 - auroc: 0.9977 - val_loss: 0.0386 - val_acc: 0.9857 - val_auroc: 0.9993\n",
      "Epoch 32/150\n",
      "214/214 [==============================] - 4s 19ms/step - loss: 0.0730 - acc: 0.9722 - auroc: 0.9979 - val_loss: 0.0727 - val_acc: 0.9688 - val_auroc: 0.9988\n",
      "Epoch 33/150\n",
      "214/214 [==============================] - 4s 19ms/step - loss: 0.0706 - acc: 0.9725 - auroc: 0.9981 - val_loss: 0.0531 - val_acc: 0.9815 - val_auroc: 0.9993\n",
      "Epoch 34/150\n",
      "214/214 [==============================] - 4s 19ms/step - loss: 0.0637 - acc: 0.9747 - auroc: 0.9985 - val_loss: 0.0342 - val_acc: 0.9864 - val_auroc: 0.9995\n",
      "Epoch 35/150\n",
      "214/214 [==============================] - 4s 19ms/step - loss: 0.0607 - acc: 0.9768 - auroc: 0.9988 - val_loss: 0.0437 - val_acc: 0.9826 - val_auroc: 0.9994\n",
      "Epoch 36/150\n",
      "214/214 [==============================] - 4s 19ms/step - loss: 0.0590 - acc: 0.9774 - auroc: 0.9988 - val_loss: 0.0389 - val_acc: 0.9859 - val_auroc: 0.9993\n",
      "Epoch 37/150\n",
      "214/214 [==============================] - 4s 19ms/step - loss: 0.0555 - acc: 0.9787 - auroc: 0.9988 - val_loss: 0.0329 - val_acc: 0.9888 - val_auroc: 0.9995\n",
      "Epoch 38/150\n",
      "214/214 [==============================] - 4s 19ms/step - loss: 0.0488 - acc: 0.9809 - auroc: 0.9991 - val_loss: 0.0611 - val_acc: 0.9712 - val_auroc: 0.9998\n",
      "Epoch 39/150\n",
      "214/214 [==============================] - 4s 19ms/step - loss: 0.0441 - acc: 0.9831 - auroc: 0.9990 - val_loss: 0.0218 - val_acc: 0.9934 - val_auroc: 0.9997\n",
      "Epoch 40/150\n",
      "214/214 [==============================] - 4s 19ms/step - loss: 0.0483 - acc: 0.9807 - auroc: 0.9992 - val_loss: 0.0826 - val_acc: 0.9705 - val_auroc: 0.9992\n",
      "Epoch 41/150\n",
      "214/214 [==============================] - 4s 19ms/step - loss: 0.0511 - acc: 0.9804 - auroc: 0.9991 - val_loss: 0.0528 - val_acc: 0.9778 - val_auroc: 0.9998\n",
      "Epoch 42/150\n",
      "214/214 [==============================] - 4s 19ms/step - loss: 0.0393 - acc: 0.9841 - auroc: 0.9994 - val_loss: 0.0148 - val_acc: 0.9963 - val_auroc: 0.9999\n",
      "Epoch 43/150\n",
      "214/214 [==============================] - 4s 19ms/step - loss: 0.0369 - acc: 0.9868 - auroc: 0.9994 - val_loss: 0.0556 - val_acc: 0.9780 - val_auroc: 0.9999\n",
      "Epoch 44/150\n",
      "214/214 [==============================] - 4s 19ms/step - loss: 0.0434 - acc: 0.9831 - auroc: 0.9993 - val_loss: 0.0228 - val_acc: 0.9901 - val_auroc: 0.9999\n",
      "Epoch 45/150\n",
      "214/214 [==============================] - 4s 19ms/step - loss: 0.0344 - acc: 0.9873 - auroc: 0.9996 - val_loss: 0.0435 - val_acc: 0.9844 - val_auroc: 0.9998\n",
      "Epoch 46/150\n",
      "214/214 [==============================] - 4s 19ms/step - loss: 0.0347 - acc: 0.9866 - auroc: 0.9997 - val_loss: 0.0218 - val_acc: 0.9910 - val_auroc: 0.9999\n",
      "Epoch 47/150\n",
      "214/214 [==============================] - 4s 19ms/step - loss: 0.0284 - acc: 0.9903 - auroc: 0.9998 - val_loss: 0.0166 - val_acc: 0.9938 - val_auroc: 0.9999\n",
      "Epoch 48/150\n",
      "214/214 [==============================] - 4s 19ms/step - loss: 0.0303 - acc: 0.9884 - auroc: 0.9998 - val_loss: 0.0085 - val_acc: 0.9965 - val_auroc: 1.0000\n",
      "Epoch 49/150\n",
      "214/214 [==============================] - 4s 19ms/step - loss: 0.0342 - acc: 0.9884 - auroc: 0.9996 - val_loss: 0.0091 - val_acc: 0.9974 - val_auroc: 1.0000\n",
      "Epoch 50/150\n",
      "214/214 [==============================] - 4s 19ms/step - loss: 0.0275 - acc: 0.9897 - auroc: 0.9998 - val_loss: 0.0116 - val_acc: 0.9971 - val_auroc: 1.0000\n",
      "Epoch 51/150\n",
      "214/214 [==============================] - 4s 19ms/step - loss: 0.0276 - acc: 0.9897 - auroc: 0.9997 - val_loss: 0.0087 - val_acc: 0.9967 - val_auroc: 1.0000\n",
      "Epoch 52/150\n",
      "214/214 [==============================] - 4s 19ms/step - loss: 0.0310 - acc: 0.9884 - auroc: 0.9998 - val_loss: 0.0543 - val_acc: 0.9774 - val_auroc: 0.9999\n",
      "Epoch 53/150\n",
      "214/214 [==============================] - 4s 19ms/step - loss: 0.0236 - acc: 0.9915 - auroc: 0.9998 - val_loss: 0.0121 - val_acc: 0.9956 - val_auroc: 1.0000\n",
      "Epoch 54/150\n",
      "214/214 [==============================] - 4s 19ms/step - loss: 0.0200 - acc: 0.9932 - auroc: 0.9998 - val_loss: 0.0175 - val_acc: 0.9921 - val_auroc: 1.0000\n",
      "Epoch 55/150\n",
      "214/214 [==============================] - 4s 19ms/step - loss: 0.0221 - acc: 0.9919 - auroc: 0.9999 - val_loss: 0.0057 - val_acc: 0.9989 - val_auroc: 1.0000\n",
      "Epoch 56/150\n",
      "214/214 [==============================] - 4s 19ms/step - loss: 0.0205 - acc: 0.9933 - auroc: 0.9999 - val_loss: 0.0131 - val_acc: 0.9949 - val_auroc: 1.0000\n",
      "Epoch 57/150\n",
      "214/214 [==============================] - 4s 19ms/step - loss: 0.0197 - acc: 0.9936 - auroc: 0.9998 - val_loss: 0.0058 - val_acc: 0.9980 - val_auroc: 1.0000\n",
      "Epoch 58/150\n",
      "214/214 [==============================] - 4s 19ms/step - loss: 0.0197 - acc: 0.9929 - auroc: 0.9999 - val_loss: 0.0119 - val_acc: 0.9960 - val_auroc: 1.0000\n",
      "Epoch 59/150\n",
      "214/214 [==============================] - 4s 19ms/step - loss: 0.0206 - acc: 0.9930 - auroc: 0.9999 - val_loss: 0.0039 - val_acc: 0.9989 - val_auroc: 1.0000\n",
      "Epoch 60/150\n",
      "214/214 [==============================] - 4s 19ms/step - loss: 0.0223 - acc: 0.9923 - auroc: 0.9998 - val_loss: 0.0092 - val_acc: 0.9974 - val_auroc: 1.0000\n",
      "Epoch 61/150\n",
      "214/214 [==============================] - 4s 19ms/step - loss: 0.0225 - acc: 0.9919 - auroc: 0.9999 - val_loss: 0.0226 - val_acc: 0.9921 - val_auroc: 1.0000\n",
      "Epoch 62/150\n",
      "214/214 [==============================] - 4s 19ms/step - loss: 0.0112 - acc: 0.9960 - auroc: 1.0000 - val_loss: 0.0329 - val_acc: 0.9857 - val_auroc: 1.0000\n",
      "Epoch 63/150\n",
      "214/214 [==============================] - 4s 19ms/step - loss: 0.0135 - acc: 0.9947 - auroc: 0.9999 - val_loss: 0.0050 - val_acc: 0.9985 - val_auroc: 1.0000\n",
      "Epoch 64/150\n",
      "214/214 [==============================] - 4s 19ms/step - loss: 0.0190 - acc: 0.9936 - auroc: 0.9998 - val_loss: 0.0026 - val_acc: 0.9996 - val_auroc: 1.0000\n",
      "Epoch 65/150\n",
      "214/214 [==============================] - 4s 19ms/step - loss: 0.0157 - acc: 0.9946 - auroc: 0.9999 - val_loss: 0.0147 - val_acc: 0.9943 - val_auroc: 1.0000\n",
      "Epoch 66/150\n",
      "214/214 [==============================] - 4s 19ms/step - loss: 0.0166 - acc: 0.9947 - auroc: 0.9999 - val_loss: 0.0050 - val_acc: 0.9985 - val_auroc: 1.0000\n",
      "Epoch 67/150\n",
      "214/214 [==============================] - 4s 19ms/step - loss: 0.0140 - acc: 0.9952 - auroc: 0.9999 - val_loss: 0.0032 - val_acc: 0.9987 - val_auroc: 1.0000\n",
      "Epoch 68/150\n",
      "214/214 [==============================] - 4s 19ms/step - loss: 0.0082 - acc: 0.9977 - auroc: 1.0000 - val_loss: 0.0029 - val_acc: 0.9991 - val_auroc: 1.0000\n",
      "Epoch 69/150\n",
      "214/214 [==============================] - 4s 19ms/step - loss: 0.0130 - acc: 0.9955 - auroc: 0.9999 - val_loss: 0.0056 - val_acc: 0.9982 - val_auroc: 1.0000\n",
      "Epoch 70/150\n",
      "214/214 [==============================] - 4s 19ms/step - loss: 0.0132 - acc: 0.9958 - auroc: 1.0000 - val_loss: 0.0023 - val_acc: 0.9998 - val_auroc: 1.0000\n",
      "Epoch 71/150\n",
      "214/214 [==============================] - 4s 19ms/step - loss: 0.0116 - acc: 0.9960 - auroc: 1.0000 - val_loss: 0.0096 - val_acc: 0.9967 - val_auroc: 1.0000\n",
      "Epoch 72/150\n",
      "214/214 [==============================] - 4s 19ms/step - loss: 0.0114 - acc: 0.9966 - auroc: 0.9999 - val_loss: 0.0024 - val_acc: 0.9991 - val_auroc: 1.0000\n",
      "Epoch 73/150\n",
      "214/214 [==============================] - 4s 19ms/step - loss: 0.0089 - acc: 0.9968 - auroc: 1.0000 - val_loss: 0.0145 - val_acc: 0.9934 - val_auroc: 1.0000\n",
      "Epoch 74/150\n",
      "214/214 [==============================] - 4s 19ms/step - loss: 0.0121 - acc: 0.9954 - auroc: 1.0000 - val_loss: 0.0029 - val_acc: 0.9993 - val_auroc: 1.0000\n",
      "Epoch 75/150\n",
      "214/214 [==============================] - 4s 19ms/step - loss: 0.0126 - acc: 0.9957 - auroc: 0.9998 - val_loss: 0.0073 - val_acc: 0.9969 - val_auroc: 1.0000\n",
      "Epoch 76/150\n",
      "214/214 [==============================] - 4s 19ms/step - loss: 0.0089 - acc: 0.9966 - auroc: 1.0000 - val_loss: 0.0017 - val_acc: 0.9998 - val_auroc: 1.0000\n",
      "Epoch 77/150\n",
      "214/214 [==============================] - 4s 19ms/step - loss: 0.0096 - acc: 0.9960 - auroc: 1.0000 - val_loss: 0.0258 - val_acc: 0.9905 - val_auroc: 1.0000\n",
      "Epoch 78/150\n",
      "214/214 [==============================] - 4s 19ms/step - loss: 0.0094 - acc: 0.9970 - auroc: 0.9999 - val_loss: 0.0017 - val_acc: 0.9991 - val_auroc: 1.0000\n",
      "Epoch 79/150\n",
      "214/214 [==============================] - 4s 19ms/step - loss: 0.0077 - acc: 0.9973 - auroc: 1.0000 - val_loss: 0.0074 - val_acc: 0.9976 - val_auroc: 1.0000\n",
      "Epoch 80/150\n",
      "214/214 [==============================] - 4s 19ms/step - loss: 0.0035 - acc: 0.9985 - auroc: 1.0000 - val_loss: 0.0019 - val_acc: 0.9991 - val_auroc: 1.0000\n",
      "Epoch 81/150\n",
      "214/214 [==============================] - 4s 19ms/step - loss: 0.0109 - acc: 0.9966 - auroc: 1.0000 - val_loss: 0.0075 - val_acc: 0.9976 - val_auroc: 1.0000\n",
      "Epoch 82/150\n",
      "214/214 [==============================] - 4s 19ms/step - loss: 0.0087 - acc: 0.9970 - auroc: 1.0000 - val_loss: 0.0025 - val_acc: 0.9987 - val_auroc: 1.0000\n",
      "Epoch 83/150\n",
      "214/214 [==============================] - 4s 19ms/step - loss: 0.0096 - acc: 0.9966 - auroc: 1.0000 - val_loss: 0.0048 - val_acc: 0.9985 - val_auroc: 1.0000\n",
      "Epoch 84/150\n",
      "214/214 [==============================] - 4s 19ms/step - loss: 0.0094 - acc: 0.9971 - auroc: 1.0000 - val_loss: 0.0029 - val_acc: 0.9993 - val_auroc: 1.0000\n",
      "Epoch 85/150\n",
      "214/214 [==============================] - 4s 19ms/step - loss: 0.0058 - acc: 0.9976 - auroc: 1.0000 - val_loss: 9.0792e-04 - val_acc: 0.9996 - val_auroc: 1.0000\n",
      "Epoch 86/150\n",
      "214/214 [==============================] - 4s 19ms/step - loss: 0.0081 - acc: 0.9969 - auroc: 1.0000 - val_loss: 0.0010 - val_acc: 0.9996 - val_auroc: 1.0000\n",
      "Epoch 87/150\n",
      "214/214 [==============================] - 4s 19ms/step - loss: 0.0071 - acc: 0.9974 - auroc: 1.0000 - val_loss: 0.0025 - val_acc: 0.9996 - val_auroc: 1.0000\n",
      "Epoch 88/150\n",
      "214/214 [==============================] - 4s 19ms/step - loss: 0.0069 - acc: 0.9977 - auroc: 1.0000 - val_loss: 0.0012 - val_acc: 0.9998 - val_auroc: 1.0000\n",
      "Epoch 89/150\n",
      "214/214 [==============================] - 4s 20ms/step - loss: 0.0075 - acc: 0.9972 - auroc: 1.0000 - val_loss: 0.0070 - val_acc: 0.9967 - val_auroc: 1.0000\n",
      "Epoch 90/150\n",
      "214/214 [==============================] - 4s 20ms/step - loss: 0.0060 - acc: 0.9978 - auroc: 1.0000 - val_loss: 0.0013 - val_acc: 0.9993 - val_auroc: 1.0000\n",
      "Epoch 91/150\n",
      "214/214 [==============================] - 4s 19ms/step - loss: 0.0078 - acc: 0.9979 - auroc: 1.0000 - val_loss: 0.0070 - val_acc: 0.9978 - val_auroc: 1.0000\n",
      "Epoch 92/150\n",
      "214/214 [==============================] - 4s 19ms/step - loss: 0.0045 - acc: 0.9983 - auroc: 1.0000 - val_loss: 5.2453e-04 - val_acc: 1.0000 - val_auroc: 1.0000\n",
      "Epoch 93/150\n",
      "214/214 [==============================] - 4s 19ms/step - loss: 0.0095 - acc: 0.9972 - auroc: 1.0000 - val_loss: 0.0011 - val_acc: 0.9996 - val_auroc: 1.0000\n",
      "Epoch 94/150\n",
      "214/214 [==============================] - 4s 19ms/step - loss: 0.0071 - acc: 0.9974 - auroc: 1.0000 - val_loss: 5.5986e-04 - val_acc: 0.9996 - val_auroc: 1.0000\n",
      "Epoch 95/150\n",
      "214/214 [==============================] - 4s 19ms/step - loss: 0.0047 - acc: 0.9985 - auroc: 1.0000 - val_loss: 4.4447e-04 - val_acc: 1.0000 - val_auroc: 1.0000\n",
      "Epoch 96/150\n",
      "214/214 [==============================] - 4s 19ms/step - loss: 0.0062 - acc: 0.9977 - auroc: 1.0000 - val_loss: 5.5901e-04 - val_acc: 1.0000 - val_auroc: 1.0000\n",
      "Epoch 97/150\n",
      "214/214 [==============================] - 4s 19ms/step - loss: 0.0053 - acc: 0.9980 - auroc: 1.0000 - val_loss: 0.0020 - val_acc: 0.9989 - val_auroc: 1.0000\n",
      "Epoch 98/150\n",
      "214/214 [==============================] - 4s 19ms/step - loss: 0.0072 - acc: 0.9978 - auroc: 1.0000 - val_loss: 0.0041 - val_acc: 0.9976 - val_auroc: 1.0000\n",
      "Epoch 99/150\n",
      "214/214 [==============================] - 4s 19ms/step - loss: 0.0042 - acc: 0.9986 - auroc: 1.0000 - val_loss: 8.5338e-04 - val_acc: 1.0000 - val_auroc: 1.0000\n",
      "Epoch 100/150\n",
      "214/214 [==============================] - 4s 19ms/step - loss: 0.0066 - acc: 0.9980 - auroc: 1.0000 - val_loss: 9.1710e-04 - val_acc: 0.9998 - val_auroc: 1.0000\n",
      "Epoch 101/150\n",
      "214/214 [==============================] - 4s 19ms/step - loss: 0.0072 - acc: 0.9979 - auroc: 1.0000 - val_loss: 0.0036 - val_acc: 0.9993 - val_auroc: 1.0000\n",
      "Epoch 102/150\n",
      "214/214 [==============================] - 4s 19ms/step - loss: 0.0057 - acc: 0.9977 - auroc: 1.0000 - val_loss: 3.8142e-04 - val_acc: 1.0000 - val_auroc: 1.0000\n",
      "Epoch 103/150\n",
      "214/214 [==============================] - 4s 19ms/step - loss: 0.0039 - acc: 0.9988 - auroc: 1.0000 - val_loss: 0.0016 - val_acc: 0.9998 - val_auroc: 1.0000\n",
      "Epoch 104/150\n",
      "214/214 [==============================] - 4s 19ms/step - loss: 0.0053 - acc: 0.9984 - auroc: 1.0000 - val_loss: 7.7497e-05 - val_acc: 1.0000 - val_auroc: 1.0000\n",
      "Epoch 105/150\n",
      "214/214 [==============================] - 4s 19ms/step - loss: 0.0040 - acc: 0.9987 - auroc: 1.0000 - val_loss: 0.0102 - val_acc: 0.9971 - val_auroc: 1.0000\n",
      "Epoch 106/150\n",
      "214/214 [==============================] - 4s 19ms/step - loss: 0.0053 - acc: 0.9984 - auroc: 1.0000 - val_loss: 0.0023 - val_acc: 0.9998 - val_auroc: 1.0000\n",
      "Epoch 107/150\n",
      "214/214 [==============================] - 4s 19ms/step - loss: 0.0047 - acc: 0.9986 - auroc: 1.0000 - val_loss: 0.0014 - val_acc: 0.9996 - val_auroc: 1.0000\n",
      "Epoch 108/150\n",
      "214/214 [==============================] - 4s 19ms/step - loss: 0.0029 - acc: 0.9990 - auroc: 1.0000 - val_loss: 7.9744e-04 - val_acc: 0.9996 - val_auroc: 1.0000\n",
      "Epoch 109/150\n",
      "214/214 [==============================] - 4s 19ms/step - loss: 0.0059 - acc: 0.9979 - auroc: 1.0000 - val_loss: 0.0084 - val_acc: 0.9969 - val_auroc: 1.0000\n",
      "Epoch 110/150\n",
      "214/214 [==============================] - 4s 19ms/step - loss: 0.0034 - acc: 0.9987 - auroc: 1.0000 - val_loss: 4.6274e-04 - val_acc: 0.9998 - val_auroc: 1.0000\n",
      "Epoch 111/150\n",
      "214/214 [==============================] - 4s 19ms/step - loss: 0.0043 - acc: 0.9987 - auroc: 1.0000 - val_loss: 0.0016 - val_acc: 0.9998 - val_auroc: 1.0000\n",
      "Epoch 112/150\n",
      "214/214 [==============================] - 4s 19ms/step - loss: 0.0032 - acc: 0.9992 - auroc: 1.0000 - val_loss: 7.7531e-05 - val_acc: 1.0000 - val_auroc: 1.0000\n",
      "Epoch 113/150\n",
      "214/214 [==============================] - 4s 19ms/step - loss: 0.0061 - acc: 0.9978 - auroc: 1.0000 - val_loss: 0.0021 - val_acc: 0.9991 - val_auroc: 1.0000\n",
      "Epoch 114/150\n",
      "214/214 [==============================] - 4s 19ms/step - loss: 0.0036 - acc: 0.9987 - auroc: 1.0000 - val_loss: 7.5738e-05 - val_acc: 1.0000 - val_auroc: 1.0000\n",
      "Epoch 115/150\n",
      "214/214 [==============================] - 4s 19ms/step - loss: 0.0028 - acc: 0.9990 - auroc: 1.0000 - val_loss: 0.0022 - val_acc: 0.9991 - val_auroc: 1.0000\n",
      "Epoch 116/150\n",
      "214/214 [==============================] - 4s 19ms/step - loss: 0.0044 - acc: 0.9986 - auroc: 1.0000 - val_loss: 0.0063 - val_acc: 0.9982 - val_auroc: 1.0000\n",
      "Epoch 117/150\n",
      "214/214 [==============================] - 4s 19ms/step - loss: 0.0036 - acc: 0.9993 - auroc: 0.9999 - val_loss: 0.0031 - val_acc: 0.9991 - val_auroc: 1.0000\n",
      "Epoch 118/150\n",
      "214/214 [==============================] - 4s 19ms/step - loss: 0.0033 - acc: 0.9990 - auroc: 1.0000 - val_loss: 0.0112 - val_acc: 0.9976 - val_auroc: 1.0000\n",
      "Epoch 119/150\n",
      "214/214 [==============================] - 4s 19ms/step - loss: 0.0086 - acc: 0.9968 - auroc: 1.0000 - val_loss: 0.0013 - val_acc: 0.9998 - val_auroc: 1.0000\n",
      "Epoch 120/150\n",
      "214/214 [==============================] - 4s 19ms/step - loss: 0.0021 - acc: 0.9991 - auroc: 1.0000 - val_loss: 0.0010 - val_acc: 0.9998 - val_auroc: 1.0000\n",
      "Epoch 121/150\n",
      "214/214 [==============================] - 4s 19ms/step - loss: 0.0042 - acc: 0.9988 - auroc: 1.0000 - val_loss: 0.0022 - val_acc: 0.9989 - val_auroc: 1.0000\n",
      "Epoch 122/150\n",
      "214/214 [==============================] - 4s 19ms/step - loss: 0.0021 - acc: 0.9994 - auroc: 1.0000 - val_loss: 0.0015 - val_acc: 0.9998 - val_auroc: 1.0000\n",
      "Epoch 123/150\n",
      "214/214 [==============================] - 4s 19ms/step - loss: 0.0035 - acc: 0.9988 - auroc: 1.0000 - val_loss: 9.9327e-04 - val_acc: 0.9998 - val_auroc: 1.0000\n",
      "Epoch 124/150\n",
      "214/214 [==============================] - 4s 19ms/step - loss: 0.0039 - acc: 0.9988 - auroc: 1.0000 - val_loss: 7.4985e-04 - val_acc: 0.9998 - val_auroc: 1.0000\n",
      "Epoch 125/150\n",
      "214/214 [==============================] - 4s 19ms/step - loss: 0.0037 - acc: 0.9988 - auroc: 1.0000 - val_loss: 0.0071 - val_acc: 0.9978 - val_auroc: 1.0000\n",
      "Epoch 126/150\n",
      "214/214 [==============================] - 4s 19ms/step - loss: 0.0043 - acc: 0.9988 - auroc: 1.0000 - val_loss: 4.6567e-04 - val_acc: 1.0000 - val_auroc: 1.0000\n",
      "Epoch 127/150\n",
      "214/214 [==============================] - 4s 19ms/step - loss: 0.0028 - acc: 0.9990 - auroc: 1.0000 - val_loss: 1.1527e-04 - val_acc: 1.0000 - val_auroc: 1.0000\n",
      "Epoch 128/150\n",
      "214/214 [==============================] - 4s 19ms/step - loss: 9.9310e-04 - acc: 0.9997 - auroc: 1.0000 - val_loss: 2.2998e-04 - val_acc: 0.9998 - val_auroc: 1.0000\n",
      "Epoch 129/150\n",
      "214/214 [==============================] - 4s 19ms/step - loss: 0.0041 - acc: 0.9987 - auroc: 1.0000 - val_loss: 0.0022 - val_acc: 0.9996 - val_auroc: 1.0000\n",
      "Epoch 130/150\n",
      "214/214 [==============================] - 4s 19ms/step - loss: 0.0018 - acc: 0.9996 - auroc: 1.0000 - val_loss: 0.0010 - val_acc: 0.9993 - val_auroc: 1.0000\n",
      "Epoch 131/150\n",
      "214/214 [==============================] - 4s 19ms/step - loss: 0.0025 - acc: 0.9993 - auroc: 1.0000 - val_loss: 1.8426e-04 - val_acc: 1.0000 - val_auroc: 1.0000\n",
      "Epoch 132/150\n",
      "214/214 [==============================] - 4s 19ms/step - loss: 0.0031 - acc: 0.9990 - auroc: 1.0000 - val_loss: 1.7542e-04 - val_acc: 1.0000 - val_auroc: 1.0000\n",
      "Epoch 133/150\n",
      "214/214 [==============================] - 4s 19ms/step - loss: 0.0061 - acc: 0.9983 - auroc: 1.0000 - val_loss: 1.4034e-04 - val_acc: 1.0000 - val_auroc: 1.0000\n",
      "Epoch 134/150\n",
      "214/214 [==============================] - 4s 19ms/step - loss: 0.0014 - acc: 0.9996 - auroc: 1.0000 - val_loss: 0.0016 - val_acc: 0.9998 - val_auroc: 1.0000\n",
      "Epoch 135/150\n",
      "214/214 [==============================] - 4s 18ms/step - loss: 0.0050 - acc: 0.9981 - auroc: 1.0000 - val_loss: 0.0037 - val_acc: 0.9982 - val_auroc: 1.0000\n",
      "Epoch 136/150\n",
      "214/214 [==============================] - 4s 19ms/step - loss: 0.0033 - acc: 0.9991 - auroc: 1.0000 - val_loss: 0.0029 - val_acc: 0.9989 - val_auroc: 1.0000\n",
      "Epoch 137/150\n",
      "214/214 [==============================] - 4s 19ms/step - loss: 0.0019 - acc: 0.9993 - auroc: 1.0000 - val_loss: 6.4799e-05 - val_acc: 1.0000 - val_auroc: 1.0000\n",
      "Epoch 138/150\n",
      "214/214 [==============================] - 4s 19ms/step - loss: 0.0041 - acc: 0.9985 - auroc: 1.0000 - val_loss: 6.0111e-04 - val_acc: 1.0000 - val_auroc: 1.0000\n",
      "Epoch 139/150\n",
      "214/214 [==============================] - 4s 19ms/step - loss: 0.0014 - acc: 0.9995 - auroc: 1.0000 - val_loss: 5.0079e-04 - val_acc: 0.9998 - val_auroc: 1.0000\n",
      "Epoch 140/150\n",
      "214/214 [==============================] - 4s 19ms/step - loss: 0.0033 - acc: 0.9985 - auroc: 1.0000 - val_loss: 7.9622e-04 - val_acc: 0.9996 - val_auroc: 1.0000\n",
      "Epoch 141/150\n",
      "214/214 [==============================] - 4s 19ms/step - loss: 6.6920e-04 - acc: 0.9999 - auroc: 1.0000 - val_loss: 1.2867e-05 - val_acc: 1.0000 - val_auroc: 1.0000\n",
      "Epoch 142/150\n",
      "214/214 [==============================] - 4s 19ms/step - loss: 0.0010 - acc: 0.9996 - auroc: 1.0000 - val_loss: 4.6475e-06 - val_acc: 1.0000 - val_auroc: 1.0000\n",
      "Epoch 143/150\n",
      "214/214 [==============================] - 4s 19ms/step - loss: 0.0041 - acc: 0.9988 - auroc: 1.0000 - val_loss: 7.5428e-04 - val_acc: 0.9998 - val_auroc: 1.0000\n",
      "Epoch 144/150\n",
      "214/214 [==============================] - 4s 19ms/step - loss: 0.0027 - acc: 0.9991 - auroc: 1.0000 - val_loss: 0.0015 - val_acc: 0.9993 - val_auroc: 1.0000\n",
      "Epoch 145/150\n",
      "214/214 [==============================] - 4s 19ms/step - loss: 0.0019 - acc: 0.9993 - auroc: 1.0000 - val_loss: 0.0015 - val_acc: 0.9993 - val_auroc: 1.0000\n",
      "Epoch 146/150\n",
      "214/214 [==============================] - 4s 19ms/step - loss: 5.9485e-04 - acc: 0.9998 - auroc: 1.0000 - val_loss: 7.2730e-04 - val_acc: 0.9998 - val_auroc: 1.0000\n",
      "Epoch 147/150\n",
      "214/214 [==============================] - 4s 19ms/step - loss: 0.0038 - acc: 0.9990 - auroc: 1.0000 - val_loss: 0.0042 - val_acc: 0.9987 - val_auroc: 1.0000\n",
      "Epoch 148/150\n",
      "214/214 [==============================] - 4s 19ms/step - loss: 0.0024 - acc: 0.9990 - auroc: 1.0000 - val_loss: 2.6443e-04 - val_acc: 0.9998 - val_auroc: 1.0000\n",
      "Epoch 149/150\n",
      "214/214 [==============================] - 4s 19ms/step - loss: 0.0032 - acc: 0.9988 - auroc: 1.0000 - val_loss: 3.6514e-05 - val_acc: 1.0000 - val_auroc: 1.0000\n",
      "Epoch 150/150\n",
      "214/214 [==============================] - 4s 19ms/step - loss: 0.0013 - acc: 0.9996 - auroc: 1.0000 - val_loss: 2.8441e-05 - val_acc: 1.0000 - val_auroc: 1.0000\n"
     ]
    },
    {
     "data": {
      "image/png": "[encoded data removed]",
      "text/plain": [
       "<Figure size 1152x288 with 3 Axes>"
      ]
     },
     "metadata": {
      "needs_background": "light",
      "tags": []
     },
     "output_type": "display_data"
    }
   ],
   "source": [
    "model_3 = models.build_cnn_lstm_model_ver3(LSTM,False,128,80,0.3,(seq_length,4,1))\n",
    "history_3 = models.train_model(model_3,optimizer,loss_func[0],epochs,batch_size,train_data_3,train_label_3,[early_stopping])"
   ]
  },
  {
   "cell_type": "code",
   "execution_count": null,
   "metadata": {
    "colab": {},
    "colab_type": "code",
    "id": "j4uYxScDfuJC"
   },
   "outputs": [],
   "source": [
    "model_4 = models.build_cnn_lstm_model_ver3(LSTM,False,32,100,0.3,(seq_length,4,1))\n",
    "history_4 = models.train_model(model_4,optimizer,loss_func[0],epochs,batch_size,train_data_4,train_label_4,[early_stopping])"
   ]
  },
  {
   "cell_type": "markdown",
   "metadata": {
    "colab_type": "text",
    "id": "LAXtyaktyY8g"
   },
   "source": [
    "## 4.Testing with unseen data"
   ]
  },
  {
   "cell_type": "markdown",
   "metadata": {
    "colab_type": "text",
    "id": "bDEa8JFktX3i"
   },
   "source": [
    "### 4.1 Testing model-1 "
   ]
  },
  {
   "cell_type": "code",
   "execution_count": null,
   "metadata": {
    "colab": {
     "base_uri": "https://localhost:8080/",
     "height": 50
    },
    "colab_type": "code",
    "executionInfo": {
     "elapsed": 2335,
     "status": "ok",
     "timestamp": 1599638903815,
     "user": {
      "displayName": "Nyein Soe",
      "photoUrl": "",
      "userId": "10118612274549664294"
     },
     "user_tz": -480
    },
    "id": "-QlrKN8-gHGL",
    "outputId": "54072ca0-3d0c-4efb-ba13-804fc68044cb"
   },
   "outputs": [
    {
     "name": "stdout",
     "output_type": "stream",
     "text": [
      "TN:    449,    FP:   51,   FN:   26,   TP:   474\n",
      "FAR:   0.102,   FRR:   0.052,   EER:   0.09714285714285714\n"
     ]
    }
   ],
   "source": [
    "#testing cnn-lstm model-binary_crossentropy\n",
    "(prediction_1,predicted_classes_1),(tn_1, fp_1, fn_1, tp_1), (FAR_1,FRR_1,EER_1) =  models.perform_testing(model_1,test_data_1,test_label_1,0.5)"
   ]
  },
  {
   "cell_type": "code",
   "execution_count": null,
   "metadata": {
    "colab": {
     "base_uri": "https://localhost:8080/",
     "height": 50
    },
    "colab_type": "code",
    "executionInfo": {
     "elapsed": 3284,
     "status": "ok",
     "timestamp": 1599638905067,
     "user": {
      "displayName": "Nyein Soe",
      "photoUrl": "",
      "userId": "10118612274549664294"
     },
     "user_tz": -480
    },
    "id": "yc6m91kitdfF",
    "outputId": "0daa1b39-c898-43cb-b19d-5874abcad131"
   },
   "outputs": [
    {
     "name": "stdout",
     "output_type": "stream",
     "text": [
      "TN:    496,    FP:   4,   FN:   25,   TP:   475\n",
      "FAR:   0.008,   FRR:   0.05,   EER:   0.04798464491383928\n"
     ]
    }
   ],
   "source": [
    "#testing cnn-lstm model-binary_crossentropy\n",
    "(prediction_2,predicted_classes_2),(tn_2, fp_2, fn_2, tp_2), (FAR_2,FRR_2,EER_2) =  models.perform_testing(model_2,test_data_2,test_label_2,0.5)"
   ]
  },
  {
   "cell_type": "code",
   "execution_count": null,
   "metadata": {
    "colab": {
     "base_uri": "https://localhost:8080/",
     "height": 50
    },
    "colab_type": "code",
    "executionInfo": {
     "elapsed": 3198,
     "status": "ok",
     "timestamp": 1599644590716,
     "user": {
      "displayName": "Nyein Soe",
      "photoUrl": "",
      "userId": "10118612274549664294"
     },
     "user_tz": -480
    },
    "id": "3hagvhRhtdcS",
    "outputId": "09c67d5e-1f0d-454d-d1ff-0bd54e70e5cd"
   },
   "outputs": [
    {
     "name": "stdout",
     "output_type": "stream",
     "text": [
      "TN:    492,    FP:   8,   FN:   82,   TP:   418\n",
      "FAR:   0.016,   FRR:   0.164,   EER:   0.1428571428571429\n"
     ]
    }
   ],
   "source": [
    "#testing cnn-lstm model-binary_crossentropy\n",
    "(prediction_3,predicted_classes_3),(tn_3, fp_3, fn_3, tp_3), (FAR_3,FRR_3,EER_3) =  models.perform_testing(model_3,test_data_3,test_label_3,0.5)"
   ]
  },
  {
   "cell_type": "code",
   "execution_count": null,
   "metadata": {
    "colab": {
     "base_uri": "https://localhost:8080/",
     "height": 50
    },
    "colab_type": "code",
    "executionInfo": {
     "elapsed": 5352,
     "status": "ok",
     "timestamp": 1599638907854,
     "user": {
      "displayName": "Nyein Soe",
      "photoUrl": "",
      "userId": "10118612274549664294"
     },
     "user_tz": -480
    },
    "id": "947YsAXiyY-k",
    "outputId": "90f71ab8-04d6-424a-fa47-4e0f150aaef1"
   },
   "outputs": [
    {
     "name": "stdout",
     "output_type": "stream",
     "text": [
      "TN:    475,    FP:   25,   FN:   20,   TP:   480\n",
      "FAR:   0.05,   FRR:   0.04,   EER:   0.04950495049504951\n"
     ]
    }
   ],
   "source": [
    "#testing cnn-lstm model-binary_crossentropy\n",
    "(prediction_4,predicted_classes_4),(tn_4, fp_4, fn_4, tp_4), (FAR_4,FRR_4,EER_4) =  models.perform_testing(model_4,test_data_4,test_label_4,0.5)"
   ]
  },
  {
   "cell_type": "code",
   "execution_count": null,
   "metadata": {
    "colab": {},
    "colab_type": "code",
    "id": "oypTm4bT9834"
   },
   "outputs": [],
   "source": []
  }
 ],
 "metadata": {
  "colab": {
   "collapsed_sections": [],
   "name": "buffalo_dataset_one_vs_one_v1.ipynb",
   "provenance": []
  },
  "kernelspec": {
   "display_name": "Python [conda env:tf2_gpu]",
   "language": "python",
   "name": "conda-env-tf2_gpu-py"
  },
  "language_info": {
   "codemirror_mode": {
    "name": "ipython",
    "version": 3
   },
   "file_extension": ".py",
   "mimetype": "text/x-python",
   "name": "python",
   "nbconvert_exporter": "python",
   "pygments_lexer": "ipython3",
   "version": "3.7.7"
  }
 },
 "nbformat": 4,
 "nbformat_minor": 4
}
