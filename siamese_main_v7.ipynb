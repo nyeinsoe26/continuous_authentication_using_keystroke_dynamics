{
 "cells": [
  {
   "cell_type": "code",
   "execution_count": 1,
   "metadata": {},
   "outputs": [],
   "source": [
    "import codecs\n",
    "import utility_functions_v2 as util\n",
    "import numpy as np\n",
    "import tensorflow as tf\n",
    "import tensorflow_addons as tfa\n",
    "from sklearn.preprocessing import MinMaxScaler\n",
    "import matplotlib.pyplot as plt\n",
    "import siamese_models \n",
    "import load_buffalo_data as load_data\n",
    "import os\n",
    "from tensorflow.keras.models import Sequential,Model, load_model\n",
    "from tensorflow.keras.layers import Conv1D, MaxPooling1D, Flatten, Dense, Input, Dropout,LSTM,TimeDistributed,GRU  \n",
    "from tensorflow.keras.layers import Bidirectional,BatchNormalization,Activation,Concatenate, Multiply, Subtract, Lambda\n",
    "from tensorflow.keras.callbacks import EarlyStopping,ReduceLROnPlateau\n",
    "from tensorflow.keras.regularizers import l2\n",
    "from sklearn.utils import shuffle\n",
    "from sklearn.preprocessing import MinMaxScaler, StandardScaler\n",
    "from sklearn.metrics import confusion_matrix\n",
    "from collections import Counter\n",
    "from tensorflow.keras import backend as K\n",
    "from sklearn.metrics import roc_auc_score"
   ]
  },
  {
   "cell_type": "code",
   "execution_count": 2,
   "metadata": {},
   "outputs": [
    {
     "data": {
      "text/plain": [
       "<module 'utility_functions_v2' from 'C:\\\\Users\\\\nyein\\\\Intership_proj\\\\keystroke_dynamics\\\\initial_testing_phase\\\\utility_functions_v2.py'>"
      ]
     },
     "execution_count": 2,
     "metadata": {},
     "output_type": "execute_result"
    }
   ],
   "source": [
    "import importlib\n",
    "importlib.reload(load_data)\n",
    "importlib.reload(siamese_models)\n",
    "importlib.reload(util)"
   ]
  },
  {
   "cell_type": "markdown",
   "metadata": {},
   "source": [
    "## Declare training constants"
   ]
  },
  {
   "cell_type": "code",
   "execution_count": 3,
   "metadata": {},
   "outputs": [],
   "source": [
    "#best hyper-parameters currently\n",
    "seq_length = 30\n",
    "weight_decay = 1e-6\n",
    "batch_size = 64\n",
    "epochs = 100\n",
    "threshold = 0.5\n",
    "num_cnn = 16\n",
    "num_lstm = 30\n",
    "optimiser = tf.keras.optimizers.Adam(lr=0.0005, beta_1=0.9, beta_2=0.999, epsilon=1e-08, decay=0.0001)\n",
    "#loss_func = [\"binary_crossentropy\",siamese_models.custom_loss]\n",
    "loss_func = [\"binary_crossentropy\",tfa.losses.contrastive_loss]\n",
    "early_stopping,learning_rate_reduction = siamese_models.get_call_backs_2()"
   ]
  },
  {
   "cell_type": "markdown",
   "metadata": {},
   "source": [
    "## Load data"
   ]
  },
  {
   "cell_type": "code",
   "execution_count": 4,
   "metadata": {},
   "outputs": [
    {
     "name": "stdout",
     "output_type": "stream",
     "text": [
      "not found!! popping from list\n",
      "not found!! popping from list\n",
      "not found!! popping from list\n",
      "not found!! popping from list\n",
      "not shuffled !!!\n",
      "not shuffled !!!\n",
      "comparing first 500 vs first 500 (no random sampled)!!!\n",
      "left train data shape: (14000, 30, 4, 1), right train data shape: (14000, 30, 4, 1), train label shape: (14000, 1)\n",
      "left val data shape: (5600, 30, 4, 1), right val data shape: (5600, 30, 4, 1), val label shape: (5600, 1)\n",
      "left test data shape: (2000, 30, 4, 1), right test data shape: (2000, 30, 4, 1), test label shape: (2000, 1)\n"
     ]
    }
   ],
   "source": [
    "(left_data_train, right_data_train, train_label), (left_data_val, right_data_val, val_label), scaler ,(base_user_data_1,base_user_data_2) = load_data.load_siamese_data(\"005\",\"080\",seq_length)\n",
    "(left_data_test, right_data_test, test_label), (user_test_sample, intruder_test_sample) = load_data.load_siamese_test_data(\"005\",\"080\",scaler,seq_length,base_user_data_1,base_user_data_2)\n",
    "\n",
    "print(\"left train data shape: {}, right train data shape: {}, train label shape: {}\".format(left_data_train.shape,right_data_train.shape,train_label.shape))\n",
    "print(\"left val data shape: {}, right val data shape: {}, val label shape: {}\".format(left_data_val.shape,right_data_val.shape,val_label.shape))\n",
    "print(\"left test data shape: {}, right test data shape: {}, test label shape: {}\".format(left_data_test.shape,right_data_test.shape,test_label.shape))"
   ]
  },
  {
   "cell_type": "markdown",
   "metadata": {},
   "source": [
    "## 1. Training"
   ]
  },
  {
   "cell_type": "code",
   "execution_count": 5,
   "metadata": {},
   "outputs": [
    {
     "name": "stdout",
     "output_type": "stream",
     "text": [
      "Using cosine dist configuration 3 - 16 CNN filters, 30 LSTM !!!!\n",
      "loss function used: binary_crossentropy\n",
      "Epoch 1/100\n",
      "219/219 [==============================] - 7s 32ms/step - loss: 0.6604 - acc: 0.5669 - auroc: 0.5742 - val_loss: 1.5460 - val_acc: 0.5677 - val_auroc: 0.7520\n",
      "Epoch 2/100\n",
      "219/219 [==============================] - 5s 25ms/step - loss: 0.6172 - acc: 0.6033 - auroc: 0.6660 - val_loss: 0.5421 - val_acc: 0.6036 - val_auroc: 0.6996\n",
      "Epoch 3/100\n",
      "219/219 [==============================] - 5s 25ms/step - loss: 0.4553 - acc: 0.7761 - auroc: 0.8642 - val_loss: 0.4424 - val_acc: 0.7195 - val_auroc: 0.9219\n",
      "Epoch 4/100\n",
      "219/219 [==============================] - 7s 32ms/step - loss: 0.2225 - acc: 0.9143 - auroc: 0.9761 - val_loss: 0.4071 - val_acc: 0.7398 - val_auroc: 0.9850\n",
      "Epoch 5/100\n",
      "219/219 [==============================] - 7s 32ms/step - loss: 0.1255 - acc: 0.9545 - auroc: 0.9932 - val_loss: 0.3575 - val_acc: 0.7232 - val_auroc: 0.9990\n",
      "Epoch 6/100\n",
      "219/219 [==============================] - 6s 28ms/step - loss: 0.1034 - acc: 0.9641 - auroc: 0.9961 - val_loss: 0.4514 - val_acc: 0.7221 - val_auroc: 0.9995\n",
      "Epoch 7/100\n",
      "219/219 [==============================] - 6s 27ms/step - loss: 0.0779 - acc: 0.9725 - auroc: 0.9977 - val_loss: 0.5010 - val_acc: 0.7279 - val_auroc: 0.9998\n",
      "Epoch 8/100\n",
      "219/219 [==============================] - 7s 32ms/step - loss: 0.0746 - acc: 0.9756 - auroc: 0.9980 - val_loss: 0.4638 - val_acc: 0.7234 - val_auroc: 1.0000\n",
      "Epoch 9/100\n",
      "219/219 [==============================] - 7s 32ms/step - loss: 0.0625 - acc: 0.9784 - auroc: 0.9985 - val_loss: 0.5098 - val_acc: 0.7216 - val_auroc: 0.9999\n",
      "Epoch 10/100\n",
      "219/219 [==============================] - 6s 28ms/step - loss: 0.0684 - acc: 0.9769 - auroc: 0.9983 - val_loss: 0.5452 - val_acc: 0.7111 - val_auroc: 1.0000\n",
      "Epoch 11/100\n",
      "219/219 [==============================] - 6s 28ms/step - loss: 0.0534 - acc: 0.9826 - auroc: 0.9991 - val_loss: 0.6626 - val_acc: 0.7141 - val_auroc: 0.9999\n",
      "Epoch 12/100\n",
      "219/219 [==============================] - 6s 27ms/step - loss: 0.0515 - acc: 0.9830 - auroc: 0.9992 - val_loss: 0.5605 - val_acc: 0.7059 - val_auroc: 1.0000\n",
      "Epoch 13/100\n",
      "219/219 [==============================] - 6s 26ms/step - loss: 0.0506 - acc: 0.9846 - auroc: 0.9993 - val_loss: 0.5115 - val_acc: 0.6657 - val_auroc: 1.0000\n",
      "Epoch 14/100\n",
      "219/219 [==============================] - 6s 28ms/step - loss: 0.0465 - acc: 0.9843 - auroc: 0.9994 - val_loss: 0.5878 - val_acc: 0.6941 - val_auroc: 1.0000\n",
      "Epoch 15/100\n",
      "219/219 [==============================] - 6s 27ms/step - loss: 0.0446 - acc: 0.9865 - auroc: 0.9994 - val_loss: 0.5191 - val_acc: 0.6836 - val_auroc: 1.0000\n",
      "Epoch 16/100\n",
      "219/219 [==============================] - 7s 32ms/step - loss: 0.0390 - acc: 0.9874 - auroc: 0.9995 - val_loss: 0.5818 - val_acc: 0.7088 - val_auroc: 1.0000\n",
      "Epoch 17/100\n",
      "219/219 [==============================] - 6s 29ms/step - loss: 0.0446 - acc: 0.9856 - auroc: 0.9995 - val_loss: 0.5848 - val_acc: 0.6977 - val_auroc: 1.0000\n",
      "Epoch 18/100\n",
      "219/219 [==============================] - 7s 30ms/step - loss: 0.0370 - acc: 0.9886 - auroc: 0.9997 - val_loss: 0.4904 - val_acc: 0.6745 - val_auroc: 1.0000\n",
      "Epoch 19/100\n",
      "219/219 [==============================] - 6s 28ms/step - loss: 0.0349 - acc: 0.9889 - auroc: 0.9997 - val_loss: 0.5428 - val_acc: 0.6898 - val_auroc: 1.0000\n",
      "Epoch 20/100\n",
      "219/219 [==============================] - 6s 27ms/step - loss: 0.0374 - acc: 0.9880 - auroc: 0.9996 - val_loss: 0.5934 - val_acc: 0.7100 - val_auroc: 1.0000\n",
      "Epoch 21/100\n",
      "219/219 [==============================] - 6s 27ms/step - loss: 0.0329 - acc: 0.9908 - auroc: 0.9997 - val_loss: 0.5534 - val_acc: 0.6907 - val_auroc: 1.0000\n",
      "Epoch 22/100\n",
      "219/219 [==============================] - 7s 32ms/step - loss: 0.0379 - acc: 0.9877 - auroc: 0.9998 - val_loss: 0.5816 - val_acc: 0.6959 - val_auroc: 1.0000\n",
      "Epoch 23/100\n",
      "219/219 [==============================] - 6s 28ms/step - loss: 0.0292 - acc: 0.9906 - auroc: 0.9997 - val_loss: 0.5949 - val_acc: 0.7036 - val_auroc: 1.0000\n",
      "Epoch 24/100\n",
      "219/219 [==============================] - 7s 30ms/step - loss: 0.0252 - acc: 0.9931 - auroc: 0.9998 - val_loss: 0.8658 - val_acc: 0.7155 - val_auroc: 0.9998\n",
      "Epoch 25/100\n",
      "219/219 [==============================] - 6s 27ms/step - loss: 0.0300 - acc: 0.9906 - auroc: 0.9998 - val_loss: 0.6357 - val_acc: 0.7048 - val_auroc: 1.0000\n",
      "Epoch 26/100\n",
      "219/219 [==============================] - 6s 28ms/step - loss: 0.0296 - acc: 0.9913 - auroc: 0.9998 - val_loss: 0.5532 - val_acc: 0.6798 - val_auroc: 1.0000\n",
      "Epoch 27/100\n",
      "219/219 [==============================] - 8s 37ms/step - loss: 0.0259 - acc: 0.9919 - auroc: 0.9998 - val_loss: 0.6892 - val_acc: 0.6986 - val_auroc: 1.0000\n",
      "Epoch 28/100\n",
      "219/219 [==============================] - 7s 32ms/step - loss: 0.0281 - acc: 0.9905 - auroc: 0.9998 - val_loss: 0.5772 - val_acc: 0.6955 - val_auroc: 1.0000\n",
      "Epoch 29/100\n",
      "219/219 [==============================] - 6s 28ms/step - loss: 0.0264 - acc: 0.9924 - auroc: 0.9999 - val_loss: 0.6469 - val_acc: 0.7011 - val_auroc: 1.0000\n",
      "Epoch 30/100\n",
      "219/219 [==============================] - 6s 27ms/step - loss: 0.0248 - acc: 0.9931 - auroc: 0.9999 - val_loss: 0.6029 - val_acc: 0.6927 - val_auroc: 1.0000\n",
      "Epoch 31/100\n",
      "219/219 [==============================] - 6s 27ms/step - loss: 0.0226 - acc: 0.9944 - auroc: 0.9999 - val_loss: 0.6089 - val_acc: 0.6886 - val_auroc: 1.0000\n",
      "Epoch 32/100\n",
      "219/219 [==============================] - 6s 28ms/step - loss: 0.0231 - acc: 0.9931 - auroc: 0.9999 - val_loss: 0.9609 - val_acc: 0.7073 - val_auroc: 0.9996\n",
      "Epoch 33/100\n",
      "219/219 [==============================] - 6s 27ms/step - loss: 0.0221 - acc: 0.9939 - auroc: 0.9999 - val_loss: 0.5851 - val_acc: 0.6700 - val_auroc: 1.0000\n",
      "Epoch 34/100\n",
      "219/219 [==============================] - 6s 27ms/step - loss: 0.0245 - acc: 0.9930 - auroc: 0.9999 - val_loss: 0.6980 - val_acc: 0.7027 - val_auroc: 1.0000\n",
      "Epoch 35/100\n",
      "219/219 [==============================] - 7s 30ms/step - loss: 0.0193 - acc: 0.9950 - auroc: 0.9999 - val_loss: 0.5826 - val_acc: 0.6846 - val_auroc: 1.0000\n"
     ]
    },
    {
     "data": {
      "image/png": "[encoded data removed]",
      "text/plain": [
       "<Figure size 1152x288 with 3 Axes>"
      ]
     },
     "metadata": {
      "needs_background": "light"
     },
     "output_type": "display_data"
    }
   ],
   "source": [
    "cos_dist_ver3_model = siamese_models.build_cnn_lstm_siamese_model_cos_dist_ver_3((seq_length,4,1),0.3,num_cnn,num_lstm)\n",
    "cos_dist_ver3_history = siamese_models.train_siamese_model(cos_dist_ver3_model, optimiser, loss_func[0], [early_stopping], ['acc',siamese_models.auroc],\n",
    "                                                           left_data_train, right_data_train, train_label,\n",
    "                                                           left_data_val, right_data_val, val_label, epochs, batch_size)"
   ]
  },
  {
   "cell_type": "markdown",
   "metadata": {},
   "source": [
    "## 2. Testing"
   ]
  },
  {
   "cell_type": "markdown",
   "metadata": {},
   "source": [
    "### 2.1 Testing cosine dist "
   ]
  },
  {
   "cell_type": "code",
   "execution_count": 6,
   "metadata": {},
   "outputs": [
    {
     "name": "stdout",
     "output_type": "stream",
     "text": [
      "TN:    985,    FP:   15,   FN:   784,   TP:   216\n",
      "FAR:   0.015,   FRR:   0.784,   EER:   0.4431882419446015\n",
      "\n"
     ]
    }
   ],
   "source": [
    "#testing configuration 3\n",
    "cos_dist_ver3_scores = siamese_models.print_model_scores([cos_dist_ver3_model],test_label,left_data_test,right_data_test,0.5)"
   ]
  },
  {
   "cell_type": "code",
   "execution_count": null,
   "metadata": {},
   "outputs": [],
   "source": []
  },
  {
   "cell_type": "code",
   "execution_count": null,
   "metadata": {},
   "outputs": [],
   "source": []
  },
  {
   "cell_type": "code",
   "execution_count": null,
   "metadata": {},
   "outputs": [],
   "source": []
  }
 ],
 "metadata": {
  "kernelspec": {
   "display_name": "Python [conda env:tf_2-2] *",
   "language": "python",
   "name": "conda-env-tf_2-2-py"
  },
  "language_info": {
   "codemirror_mode": {
    "name": "ipython",
    "version": 3
   },
   "file_extension": ".py",
   "mimetype": "text/x-python",
   "name": "python",
   "nbconvert_exporter": "python",
   "pygments_lexer": "ipython3",
   "version": "3.8.5"
  }
 },
 "nbformat": 4,
 "nbformat_minor": 4
}
